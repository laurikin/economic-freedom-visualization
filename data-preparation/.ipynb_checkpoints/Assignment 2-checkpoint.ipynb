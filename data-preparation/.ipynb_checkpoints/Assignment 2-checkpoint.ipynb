{
 "cells": [
  {
   "cell_type": "code",
   "execution_count": 116,
   "metadata": {},
   "outputs": [],
   "source": [
    "import pandas as pd\n",
    "import numpy as np\n",
    "import matplotlib.pyplot as plt"
   ]
  },
  {
   "cell_type": "code",
   "execution_count": 117,
   "metadata": {},
   "outputs": [],
   "source": [
    "df = pd.read_excel('~/Documents/American community survey.xlsx')"
   ]
  },
  {
   "cell_type": "code",
   "execution_count": 118,
   "metadata": {},
   "outputs": [
    {
     "data": {
      "text/html": [
       "<div>\n",
       "<style scoped>\n",
       "    .dataframe tbody tr th:only-of-type {\n",
       "        vertical-align: middle;\n",
       "    }\n",
       "\n",
       "    .dataframe tbody tr th {\n",
       "        vertical-align: top;\n",
       "    }\n",
       "\n",
       "    .dataframe thead th {\n",
       "        text-align: right;\n",
       "    }\n",
       "</style>\n",
       "<table border=\"1\" class=\"dataframe\">\n",
       "  <thead>\n",
       "    <tr style=\"text-align: right;\">\n",
       "      <th></th>\n",
       "      <th>Age</th>\n",
       "      <th>Work class</th>\n",
       "      <th>Education</th>\n",
       "      <th>Level of education</th>\n",
       "      <th>Marital status</th>\n",
       "      <th>Occupation</th>\n",
       "      <th>Relationship</th>\n",
       "      <th>Race</th>\n",
       "      <th>Sex</th>\n",
       "      <th>Capital gain</th>\n",
       "      <th>Capital loss</th>\n",
       "      <th>Work hours per week</th>\n",
       "      <th>Native country</th>\n",
       "      <th>Annual income</th>\n",
       "    </tr>\n",
       "  </thead>\n",
       "  <tbody>\n",
       "    <tr>\n",
       "      <th>0</th>\n",
       "      <td>39</td>\n",
       "      <td>State-gov</td>\n",
       "      <td>Bachelors</td>\n",
       "      <td>13</td>\n",
       "      <td>Never-married</td>\n",
       "      <td>Administrative / clerical</td>\n",
       "      <td>Not-in-family</td>\n",
       "      <td>White</td>\n",
       "      <td>Male</td>\n",
       "      <td>2174</td>\n",
       "      <td>0</td>\n",
       "      <td>40</td>\n",
       "      <td>United-States</td>\n",
       "      <td>&lt;=50K</td>\n",
       "    </tr>\n",
       "    <tr>\n",
       "      <th>1</th>\n",
       "      <td>50</td>\n",
       "      <td>Unincorporated self employment</td>\n",
       "      <td>Bachelors</td>\n",
       "      <td>13</td>\n",
       "      <td>Married civilian spouse</td>\n",
       "      <td>Executive / managerial</td>\n",
       "      <td>Husband</td>\n",
       "      <td>White</td>\n",
       "      <td>Male</td>\n",
       "      <td>0</td>\n",
       "      <td>0</td>\n",
       "      <td>13</td>\n",
       "      <td>United-States</td>\n",
       "      <td>&lt;=50K</td>\n",
       "    </tr>\n",
       "    <tr>\n",
       "      <th>2</th>\n",
       "      <td>38</td>\n",
       "      <td>Private</td>\n",
       "      <td>High school graduation</td>\n",
       "      <td>9</td>\n",
       "      <td>Divorced</td>\n",
       "      <td>Handlers-cleaners</td>\n",
       "      <td>Not-in-family</td>\n",
       "      <td>White</td>\n",
       "      <td>Male</td>\n",
       "      <td>0</td>\n",
       "      <td>0</td>\n",
       "      <td>40</td>\n",
       "      <td>United-States</td>\n",
       "      <td>&lt;=50K</td>\n",
       "    </tr>\n",
       "    <tr>\n",
       "      <th>3</th>\n",
       "      <td>53</td>\n",
       "      <td>Private</td>\n",
       "      <td>11th</td>\n",
       "      <td>7</td>\n",
       "      <td>Married civilian spouse</td>\n",
       "      <td>Handlers-cleaners</td>\n",
       "      <td>Husband</td>\n",
       "      <td>Black</td>\n",
       "      <td>Male</td>\n",
       "      <td>0</td>\n",
       "      <td>0</td>\n",
       "      <td>40</td>\n",
       "      <td>United-States</td>\n",
       "      <td>&lt;=50K</td>\n",
       "    </tr>\n",
       "    <tr>\n",
       "      <th>4</th>\n",
       "      <td>28</td>\n",
       "      <td>Private</td>\n",
       "      <td>Bachelors</td>\n",
       "      <td>13</td>\n",
       "      <td>Married civilian spouse</td>\n",
       "      <td>Prof-specialty</td>\n",
       "      <td>Wife</td>\n",
       "      <td>Black</td>\n",
       "      <td>Female</td>\n",
       "      <td>0</td>\n",
       "      <td>0</td>\n",
       "      <td>40</td>\n",
       "      <td>Cuba</td>\n",
       "      <td>&lt;=50K</td>\n",
       "    </tr>\n",
       "  </tbody>\n",
       "</table>\n",
       "</div>"
      ],
      "text/plain": [
       "   Age                      Work class               Education  \\\n",
       "0   39                       State-gov               Bachelors   \n",
       "1   50  Unincorporated self employment               Bachelors   \n",
       "2   38                         Private  High school graduation   \n",
       "3   53                         Private                    11th   \n",
       "4   28                         Private               Bachelors   \n",
       "\n",
       "   Level of education           Marital status                 Occupation  \\\n",
       "0                  13            Never-married  Administrative / clerical   \n",
       "1                  13  Married civilian spouse     Executive / managerial   \n",
       "2                   9                 Divorced          Handlers-cleaners   \n",
       "3                   7  Married civilian spouse          Handlers-cleaners   \n",
       "4                  13  Married civilian spouse             Prof-specialty   \n",
       "\n",
       "    Relationship   Race     Sex  Capital gain  Capital loss  \\\n",
       "0  Not-in-family  White    Male          2174             0   \n",
       "1        Husband  White    Male             0             0   \n",
       "2  Not-in-family  White    Male             0             0   \n",
       "3        Husband  Black    Male             0             0   \n",
       "4           Wife  Black  Female             0             0   \n",
       "\n",
       "   Work hours per week Native country Annual income  \n",
       "0                   40  United-States         <=50K  \n",
       "1                   13  United-States         <=50K  \n",
       "2                   40  United-States         <=50K  \n",
       "3                   40  United-States         <=50K  \n",
       "4                   40           Cuba         <=50K  "
      ]
     },
     "execution_count": 118,
     "metadata": {},
     "output_type": "execute_result"
    }
   ],
   "source": [
    "df = df[df['Race'] != 'Other']\n",
    "df.head()"
   ]
  },
  {
   "cell_type": "code",
   "execution_count": 119,
   "metadata": {},
   "outputs": [],
   "source": [
    "df['Income Over 50k'] = np.where(df['Annual income'] == '>50K', 1, 0)\n",
    "df['Race'] = df['Race'].astype('string')\n",
    "df['Sex'] = df['Sex'].astype('string')"
   ]
  },
  {
   "cell_type": "code",
   "execution_count": 124,
   "metadata": {},
   "outputs": [
    {
     "data": {
      "text/plain": [
       "['Amer-Indian-Eskimo Female',\n",
       " 'Amer-Indian-Eskimo Male',\n",
       " 'Asian-Pac-Islander Female',\n",
       " 'Asian-Pac-Islander Male',\n",
       " 'Black Female',\n",
       " 'Black Male',\n",
       " 'White Female',\n",
       " 'White Male']"
      ]
     },
     "execution_count": 124,
     "metadata": {},
     "output_type": "execute_result"
    }
   ],
   "source": [
    "grouped = df.groupby(['Race', 'Sex'])\n"
   ]
  },
  {
   "cell_type": "code",
   "execution_count": 125,
   "metadata": {},
   "outputs": [
    {
     "data": {
      "image/png": "[encoded data removed]",
      "text/plain": [
       "<Figure size 432x288 with 1 Axes>"
      ]
     },
     "metadata": {
      "needs_background": "light"
     },
     "output_type": "display_data"
    }
   ],
   "source": [
    "fig = plt.figure()\n",
    "ax = fig.add_axes([0,0,1,1])\n",
    "races = [f'{a} {b}' for a,b in list(grouped.groups)]\n",
    "ax.bar(races, grouped.mean()['Income Over 50k'])\n",
    "plt.xticks(rotation=90)\n",
    "plt.show()\n"
   ]
  },
  {
   "cell_type": "code",
   "execution_count": 275,
   "metadata": {},
   "outputs": [
    {
     "data": {
      "image/png": "[encoded data removed]",
      "text/plain": [
       "<Figure size 432x288 with 1 Axes>"
      ]
     },
     "metadata": {
      "needs_background": "light"
     },
     "output_type": "display_data"
    }
   ],
   "source": [
    "byEd = df.groupby('Level of education')\n",
    "byEd.mean()\n",
    "eds = list(byEd.groups)\n",
    "plt.bar(eds, byEd.mean()['Income Over 50k'])\n",
    "plt.xlabel('Level of Education')\n",
    "plt.ylabel('Portion Over 50K Income')\n",
    "plt.show()"
   ]
  },
  {
   "cell_type": "code",
   "execution_count": 278,
   "metadata": {},
   "outputs": [],
   "source": [
    "only_white = df[df['Race'] == 'White']\n",
    "only_black = df[df['Race'] == 'Black']\n",
    "only_asian = df[df['Race'] == 'Asian-Pac-Islander']"
   ]
  },
  {
   "cell_type": "code",
   "execution_count": 351,
   "metadata": {},
   "outputs": [
    {
     "data": {
      "text/html": [
       "<div>\n",
       "<style scoped>\n",
       "    .dataframe tbody tr th:only-of-type {\n",
       "        vertical-align: middle;\n",
       "    }\n",
       "\n",
       "    .dataframe tbody tr th {\n",
       "        vertical-align: top;\n",
       "    }\n",
       "\n",
       "    .dataframe thead th {\n",
       "        text-align: right;\n",
       "    }\n",
       "</style>\n",
       "<table border=\"1\" class=\"dataframe\">\n",
       "  <thead>\n",
       "    <tr style=\"text-align: right;\">\n",
       "      <th></th>\n",
       "      <th>Level of education</th>\n",
       "      <th>Education</th>\n",
       "    </tr>\n",
       "  </thead>\n",
       "  <tbody>\n",
       "    <tr>\n",
       "      <th>932</th>\n",
       "      <td>1</td>\n",
       "      <td>Preschool</td>\n",
       "    </tr>\n",
       "    <tr>\n",
       "      <th>3232</th>\n",
       "      <td>2</td>\n",
       "      <td>1st-4th</td>\n",
       "    </tr>\n",
       "    <tr>\n",
       "      <th>3404</th>\n",
       "      <td>3</td>\n",
       "      <td>5th-6th</td>\n",
       "    </tr>\n",
       "    <tr>\n",
       "      <th>1821</th>\n",
       "      <td>4</td>\n",
       "      <td>7th-8th</td>\n",
       "    </tr>\n",
       "    <tr>\n",
       "      <th>4302</th>\n",
       "      <td>5</td>\n",
       "      <td>9th</td>\n",
       "    </tr>\n",
       "    <tr>\n",
       "      <th>4288</th>\n",
       "      <td>6</td>\n",
       "      <td>10th</td>\n",
       "    </tr>\n",
       "    <tr>\n",
       "      <th>2801</th>\n",
       "      <td>7</td>\n",
       "      <td>11th</td>\n",
       "    </tr>\n",
       "    <tr>\n",
       "      <th>3553</th>\n",
       "      <td>8</td>\n",
       "      <td>12th</td>\n",
       "    </tr>\n",
       "    <tr>\n",
       "      <th>2686</th>\n",
       "      <td>9</td>\n",
       "      <td>High school graduation</td>\n",
       "    </tr>\n",
       "    <tr>\n",
       "      <th>948</th>\n",
       "      <td>10</td>\n",
       "      <td>Some-college</td>\n",
       "    </tr>\n",
       "    <tr>\n",
       "      <th>3541</th>\n",
       "      <td>11</td>\n",
       "      <td>Vocational association</td>\n",
       "    </tr>\n",
       "    <tr>\n",
       "      <th>940</th>\n",
       "      <td>12</td>\n",
       "      <td>Academic association</td>\n",
       "    </tr>\n",
       "    <tr>\n",
       "      <th>4946</th>\n",
       "      <td>13</td>\n",
       "      <td>Bachelors</td>\n",
       "    </tr>\n",
       "    <tr>\n",
       "      <th>1438</th>\n",
       "      <td>14</td>\n",
       "      <td>Masters</td>\n",
       "    </tr>\n",
       "    <tr>\n",
       "      <th>1616</th>\n",
       "      <td>15</td>\n",
       "      <td>Professional school</td>\n",
       "    </tr>\n",
       "    <tr>\n",
       "      <th>1689</th>\n",
       "      <td>16</td>\n",
       "      <td>Doctorate</td>\n",
       "    </tr>\n",
       "  </tbody>\n",
       "</table>\n",
       "</div>"
      ],
      "text/plain": [
       "      Level of education               Education\n",
       "932                    1               Preschool\n",
       "3232                   2                 1st-4th\n",
       "3404                   3                 5th-6th\n",
       "1821                   4                 7th-8th\n",
       "4302                   5                     9th\n",
       "4288                   6                    10th\n",
       "2801                   7                    11th\n",
       "3553                   8                    12th\n",
       "2686                   9  High school graduation\n",
       "948                   10            Some-college\n",
       "3541                  11  Vocational association\n",
       "940                   12    Academic association\n",
       "4946                  13               Bachelors\n",
       "1438                  14                 Masters\n",
       "1616                  15     Professional school\n",
       "1689                  16               Doctorate"
      ]
     },
     "execution_count": 351,
     "metadata": {},
     "output_type": "execute_result"
    }
   ],
   "source": [
    "education_map = df[['Level of education', 'Education']].sort_values(by='Level of education').drop_duplicates()\n",
    "beducation_map"
   ]
  },
  {
   "cell_type": "code",
   "execution_count": 428,
   "metadata": {},
   "outputs": [
    {
     "data": {
      "image/png": "[encoded data removed]",
      "text/plain": [
       "<Figure size 1080x360 with 1 Axes>"
      ]
     },
     "metadata": {
      "needs_background": "light"
     },
     "output_type": "display_data"
    }
   ],
   "source": [
    "whites = only_white.groupby(['Level of education']).count().apply(lambda x: x / x.sum())\n",
    "blacks = only_black.groupby(['Level of education']).count().apply(lambda x: x / x.sum())\n",
    "asian = only_asian.groupby(['Level of education']).count().apply(lambda x: x / x.sum())\n",
    "\n",
    "x = range(0,len(xlabels))\n",
    "xlabels = list(education_map['Education'].unique())\n",
    "loe = education_map[['Level of education']]\n",
    "\n",
    "plt.figure(figsize=(15,5))\n",
    "plt.xticks(rotation=90, ticks=x, labels=xlabels)\n",
    "plt.bar([xi + 0.3 for xi in x], loe.join(blacks, on='Level of education')['Race'], width=0.3)\n",
    "plt.bar([xi - 0.3 for xi in x], loe.join(whites, on='Level of education')['Race'], width=0.3, color='r')\n",
    "plt.bar(x, loe.join(asian, on='Level of education')['Race'], width=0.3, color='orange')\n",
    "plt.show()"
   ]
  },
  {
   "cell_type": "code",
   "execution_count": 415,
   "metadata": {},
   "outputs": [
    {
     "data": {
      "text/plain": [
       "<matplotlib.axes._subplots.AxesSubplot at 0x11ab7a0f0>"
      ]
     },
     "execution_count": 415,
     "metadata": {},
     "output_type": "execute_result"
    },
    {
     "data": {
      "image/png": "[encoded data removed]",
      "text/plain": [
       "<Figure size 432x288 with 1 Axes>"
      ]
     },
     "metadata": {
      "needs_background": "light"
     },
     "output_type": "display_data"
    }
   ],
   "source": [
    "conditions = [\n",
    "    (df['Level of education'] >= 14),\n",
    "    (df['Level of education'] >= 10) & (df['Level of education'] < 14),\n",
    "    (df['Level of education'] < 10)\n",
    "]\n",
    "choices = ['masters or above', 'some college', 'no college']\n",
    "df['edu'] = np.select(conditions, choices)\n",
    "df.groupby(['edu', 'Race']).count()['Age'].plot.bar()"
   ]
  }
 ],
 "metadata": {
  "kernelspec": {
   "display_name": "Python 3",
   "language": "python",
   "name": "python3"
  },
  "language_info": {
   "codemirror_mode": {
    "name": "ipython",
    "version": 3
   },
   "file_extension": ".py",
   "mimetype": "text/x-python",
   "name": "python",
   "nbconvert_exporter": "python",
   "pygments_lexer": "ipython3",
   "version": "3.7.3"
  }
 },
 "nbformat": 4,
 "nbformat_minor": 4
}
